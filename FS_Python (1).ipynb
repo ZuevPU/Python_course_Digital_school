{
 "cells": [
  {
   "cell_type": "code",
   "execution_count": null,
   "metadata": {},
   "outputs": [],
   "source": [
    "# любой текст от символа # и до конца строки — это комментарий\n",
    "# print — это функция, которая выводит информацию на экран\n",
    "# параметры (аргументы) функций берутся в круглые скобки\n",
    "# \"Hello, World!\" — это строка, которую мы выводим\n",
    "print(\"Hello, World!\")"
   ]
  },
  {
   "cell_type": "code",
   "execution_count": null,
   "metadata": {},
   "outputs": [],
   "source": [
    "print('Hello, World!')  # также строки можно брать и в одинарные кавычки"
   ]
  },
  {
   "cell_type": "code",
   "execution_count": null,
   "metadata": {},
   "outputs": [],
   "source": [
    "# функция print может принимать несколько параметров\n",
    "# когда мы передаём несколько значений в функцию, то они\n",
    "# разделяются запятыми\n",
    "print('Первое', 'Второе')"
   ]
  },
  {
   "cell_type": "code",
   "execution_count": null,
   "metadata": {},
   "outputs": [],
   "source": [
    "# здесь мы создаём переменную name (переменные подробно\n",
    "# рассматриваются в следующем уроке)\n",
    "# переменной name мы присваиваем значение 'Alex'\n",
    "name = 'Пётр'\n",
    "# после этого можно обращаться к данному значению по имени\n",
    "print(name)"
   ]
  },
  {
   "cell_type": "code",
   "execution_count": null,
   "metadata": {},
   "outputs": [],
   "source": [
    "# input — функция, которая приостанавливает выполнение программы,\n",
    "# пока пользователь не введёт значение и нажмёт клавишу Enter.\n",
    "# Функция возвращает введённое значение.\n",
    "text = input('Введите текст: ')\n",
    "print(text)"
   ]
  },
  {
   "cell_type": "code",
   "execution_count": null,
   "metadata": {},
   "outputs": [],
   "source": [
    "x = 2\n",
    "y = 8\n",
    "print(x + y)  # сложение\n",
    "print(x + 3)\n",
    "print(x - y)  # вычитание\n",
    "print(x * y)  # произведение\n",
    "print(x / y)  # деление\n",
    "print(x // y) # целочисленное деление\n",
    "print(x % y)  # остаток от деления\n",
    "print(x ** y) # возведение в степень\n",
    "print(3.2 * 0.8 - 2 * 5 - 3**3)  # арифметическое выражение\n",
    "print(4 ** 0.5)  # возведение в степень 0.5 – квадратный корень\n",
    "\n",
    "z = -2\n",
    "print(abs(z))             # модуль числа\n",
    "print(pow(z, 2), z ** 2)  # квадрат числа\n",
    "\n",
    "m = 3.26\n",
    "print(round(m), round(m, 1))  # округление числа до целого и до одного знака после запятой"
   ]
  },
  {
   "cell_type": "code",
   "execution_count": null,
   "metadata": {},
   "outputs": [],
   "source": [
    "# числа в десятичной системе счисления\n",
    "dec1 = 8\n",
    "dec2 = 42\n",
    "dec3 = -3\n",
    "dec4 = 25802836572356723058203845293402834028304820938402834023580235777082489436236\n",
    "\n",
    "print(dec1)\n",
    "print(dec2)\n",
    "print(dec3)\n",
    "print(dec4)\n",
    "print()\n",
    "\n",
    "# числа в шестнадцатеричной системе счисления\n",
    "hex1 = 0x9\n",
    "hex2 = 0xA\n",
    "hex3 = 0xFF\n",
    "hex4 = 0x3de\n",
    "\n",
    "print(hex1)\n",
    "print(hex2)\n",
    "print(hex3)\n",
    "print(hex4)\n",
    "print()\n",
    "\n",
    "# число в двоичной системе счисления\n",
    "bin1 = 0b11101101\n",
    "print(bin1)\n",
    "print()\n",
    "\n",
    "# число в восьмеричной системе счисления\n",
    "oct1 = 0o765\n",
    "print(oct1)\n",
    "print()\n",
    "\n",
    "# построение целого числа из другого значения\n",
    "string = \"15\"\n",
    "number = int(string)\n",
    "print(number)\n",
    "print(number + 5)\n",
    "# string + 5 -- ошибка"
   ]
  },
  {
   "cell_type": "code",
   "execution_count": null,
   "metadata": {},
   "outputs": [],
   "source": [
    "# истинное значение\n",
    "bool1 = True\n",
    "\n",
    "# ложное значение\n",
    "bool2 = True\n",
    "\n",
    "print(bool1)\n",
    "print(bool2)"
   ]
  },
  {
   "cell_type": "code",
   "execution_count": null,
   "metadata": {},
   "outputs": [],
   "source": [
    "# примеры вещественных чисел\n",
    "a = 0.5\n",
    "b = 3.2\n",
    "\n",
    "# примеры вещественных чисел в экспоненциальной записи\n",
    "c = 3.2e5  # 3.2 * 10**5\n",
    "d = 1e-3   # 1 * 10**(-3)\n",
    "\n",
    "print(a, b, c, d)\n",
    "\n",
    "# построение вещественного значения\n",
    "print(float(\"0.5\"))  # из строки\n",
    "print(float(3))      # из целого числа"
   ]
  },
  {
   "cell_type": "code",
   "execution_count": null,
   "metadata": {},
   "outputs": [],
   "source": [
    "# примеры комплексных чисел\n",
    "c1 = 2 + 3j  # 2 + 3i, 2 - действительная часть, 3 - мнимая\n",
    "c2 = 5 - 5j  # 5 + 5i\n",
    "\n",
    "# построение комплексного числа из вещественных\n",
    "a = 2\n",
    "b = 3\n",
    "c3 = complex(a, b)\n",
    "c4 = complex(5, -5)\n",
    "\n",
    "print(c1, c2)\n",
    "print(c3, c4)"
   ]
  },
  {
   "cell_type": "code",
   "execution_count": null,
   "metadata": {},
   "outputs": [],
   "source": [
    "# переменные - имена, которые привязываются к объектам\n",
    "var = 'I am a string'\n",
    "print(var)\n",
    "print(type(var))  # type(var) возвращает тип объекта, на который ссылается var\n",
    "print()\n",
    "# их можно привязывать к новым значениям\n",
    "var = 42\n",
    "print(var)\n",
    "print(type(var))\n",
    "print()\n",
    "# однако нужно понимать, какой тип в данный момент может\n",
    "# иметь объект и смешивать несовместимые типы нельзя\n",
    "a = 5\n",
    "b = 5\n",
    "print(a + b)  # два числа сложить можно\n",
    "#b = '5'\n",
    "#print(a + b)  # число со строкой - нет (получаем ошибку)"
   ]
  },
  {
   "cell_type": "code",
   "execution_count": null,
   "metadata": {},
   "outputs": [],
   "source": [
    "import math  # импротируем модуль math\n",
    "\n",
    "x = 3.265\n",
    "# целое число, ближайшее целое снизу, ближайшее целое сверху\n",
    "print(math.trunc(x), math.floor(x), math.ceil(x))\n",
    "\n",
    "print(math.pi)  # константа пи\n",
    "print(math.e)   # число Эйлера\n",
    "\n",
    "y = math.sin(math.pi / 4)  # math.sin – синус\n",
    "print(round(y, 2))\n",
    "\n",
    "y = 1 / math.sqrt(2)  # math.sqrt – квадратный корень\n",
    "print(round(y, 2))"
   ]
  },
  {
   "cell_type": "code",
   "execution_count": null,
   "metadata": {},
   "outputs": [],
   "source": [
    "# логические операции\n",
    "\n",
    "print('and:')\n",
    "print(False and False)\n",
    "print(False and True)\n",
    "print(True and False)\n",
    "print(True and True)\n",
    "print()\n",
    "\n",
    "print('or:')\n",
    "print(False or False)\n",
    "print(False or True)\n",
    "print(True or False)\n",
    "print(True or True)\n",
    "print()\n",
    "\n",
    "print('not:')\n",
    "print(not False)\n",
    "print(not True)\n",
    "print()\n",
    "\n",
    "\n",
    "# логические выражения\n",
    "\n",
    "a = True\n",
    "b = False\n",
    "c = True\n",
    "f = a and not b or c or (a and (b or c))\n",
    "print(f)"
   ]
  },
  {
   "cell_type": "code",
   "execution_count": null,
   "metadata": {},
   "outputs": [],
   "source": [
    "a = 2\n",
    "b = 5\n",
    "\n",
    "print(a < b)       # меньше\n",
    "print(b > 3)       # больше\n",
    "print(a <= 2)      # меньше или равно\n",
    "print(b >= 7)      # больше или равно\n",
    "print(a < 3 < b)   # двойное сравнение\n",
    "print(a == b)      # равенство\n",
    "print(a != b)      # неравенство\n",
    "print(a is b)      # идентичность объектов в памяти\n",
    "print(a is not b)  # a и b – разные объекты (хотя значения их могуть быть равны)\n",
    "\n",
    "string = \"some string\"\n",
    "second_string = string\n",
    "third_string = input('Введите строку: ')\n",
    "print(string is second_string)\n",
    "print(string is third_string)"
   ]
  },
  {
   "cell_type": "code",
   "execution_count": null,
   "metadata": {},
   "outputs": [],
   "source": [
    "# примеры строк\n",
    "s1 = \"Строка 1\"\n",
    "s2 = 'Строка 2'\n",
    "print(s1, s2)\n",
    "\n",
    "# конструирование строки из другого значения\n",
    "s3 = str(8)\n",
    "print(s3)\n",
    "\n",
    "# многострочные строки\n",
    "s4 = \"\"\"Lesson2. Variables and Data Types\n",
    "Some data types explained in this lesson:\n",
    " - int\n",
    " - bool\n",
    " - float\n",
    " - complex\n",
    " - str\n",
    "\"\"\"\n",
    "print(s4)\n",
    "\n",
    "# \\ используется, чтобы продолжить строку\n",
    "# или любое выражение в Python со следующей строчки кода\n",
    "s5 = \"started\\\n",
    "      continued\"\n",
    "print(s5)"
   ]
  },
  {
   "cell_type": "code",
   "execution_count": null,
   "metadata": {},
   "outputs": [],
   "source": [
    "str1 = 'hel'\n",
    "str2 = 'lo'\n",
    "result = str1 + str2  # конкатенация строка\n",
    "print(result)\n",
    "\n",
    "\n",
    "# форматирование строк\n",
    "\n",
    "a = 48\n",
    "b = 73\n",
    "\n",
    "message1 = '%d + %d = %d' % (a, b, a + b)\n",
    "print(message1)\n",
    "\n",
    "message2 = '{} - {} = {}'.format(a, b, a - b)\n",
    "print(message2)\n",
    "\n",
    "\n",
    "# индексация строк\n",
    "\n",
    "s = 'Hello, World!'\n",
    "\n",
    "# (вернуться в седьмом уроке)\n",
    "print(s[0])   # индексация начинается с нуля\n",
    "print(s[4])   # четвёртый (пятый логически) элемент (символ)\n",
    "print(s[-1])  # отрицательные числа – индексация с конца\n",
    "\n",
    "print(s[2:7])    # символы со второго (включительно) по пятый (не включительно)\n",
    "print(s[2:7:2])  # то же, но с шагом два"
   ]
  },
  {
   "cell_type": "code",
   "execution_count": null,
   "metadata": {},
   "outputs": [],
   "source": [
    "# указываем разделитель\n",
    "print(2, 3, 5, sep='; ')\n",
    "print('he', 'llo', sep='')  # он может быть и пустой строкой\n",
    "\n",
    "# указываем конец строки\n",
    "print(1, end=' ')\n",
    "print(2, end='\\n\\n')  # два перевода строки\n",
    "print('he', end='')    # пустой конец\n",
    "print('llo')"
   ]
  },
  {
   "cell_type": "code",
   "execution_count": null,
   "metadata": {},
   "outputs": [],
   "source": [
    "# Ввод строки\n",
    "string = input('Введите строку: ')\n",
    "print('Вы ввели \"', string, '\"', sep='')\n",
    "\n",
    "# Приглашение можно не указывать:\n",
    "#         string = input()\n",
    "# Результат, который возвращает любая функция,\n",
    "# можно не привязывать ни к какому имени.\n",
    "# Таким образом, следующая строка просто заставит\n",
    "# программу ждать, пока пользователь что-то\n",
    "# введёт или просто нажмёт Enter, а затем\n",
    "# она продолжит выполнение.\n",
    "input()\n",
    "\n",
    "\n",
    "# введём два числа\n",
    "n = int(input('Введите первое число: '))\n",
    "m = int(input('Введите второе число: '))\n",
    "print('{} + {} = {}'.format(n, m, n + m))"
   ]
  },
  {
   "cell_type": "code",
   "execution_count": null,
   "metadata": {},
   "outputs": [],
   "source": [
    "x = int(input('x = '))\n",
    "# Если число x больше пяти, то будет выдано\n",
    "# соответствующее сообщение\n",
    "if x > 5:\n",
    "    print('x больше пяти')"
   ]
  },
  {
   "cell_type": "code",
   "execution_count": null,
   "metadata": {},
   "outputs": [],
   "source": [
    "value = None\n",
    "\n",
    "# Синтаксис языка требует, чтобы в блоке был по крайней\n",
    "# мере один оператор, поэтому существует специальный\n",
    "# оператор pass, который не делает ничего и который можно\n",
    "# использовать для разного рода заглушек, нереализованного\n",
    "# функционала и т.п.\n",
    "if value is not None:\n",
    "    pass           # TODO: add logic"
   ]
  },
  {
   "cell_type": "code",
   "execution_count": null,
   "metadata": {},
   "outputs": [],
   "source": [
    "x = int(input('x = '))\n",
    "\n",
    "# такая форма записи возможна, но нежелательна\n",
    "if x < 0: x += 1\n",
    "\n",
    "print(x)"
   ]
  },
  {
   "cell_type": "code",
   "execution_count": null,
   "metadata": {},
   "outputs": [],
   "source": [
    "x = int(input('x = '))\n",
    "if x > 0:\n",
    "    y = x ** 0.5\n",
    "else:\n",
    "    y = x ** 2\n",
    "print(y)"
   ]
  },
  {
   "cell_type": "code",
   "execution_count": null,
   "metadata": {},
   "outputs": [],
   "source": [
    "x = int(input('x = '))\n",
    "\n",
    "if 0 < x < 7:\n",
    "    print('Значение x входит в заданный диапазон, продолжаем')\n",
    "    y = 2 * x - 5\n",
    "    if y < 0:\n",
    "        print('Значение y отрицательно')\n",
    "    else:\n",
    "        if y > 0:\n",
    "            print('Значение y положительно')\n",
    "        else:\n",
    "            print('y = 0')"
   ]
  },
  {
   "cell_type": "code",
   "execution_count": null,
   "metadata": {},
   "outputs": [],
   "source": [
    "x = int(input('x = '))\n",
    "\n",
    "# Заменим второй вложенный if в предыдущем примере\n",
    "# на оператор ветвления с несколькими условиями\n",
    "if 0 < x < 7:\n",
    "    print('Значение x входит в заданный диапазон, продолжаем')\n",
    "    y = 2 * x - 5\n",
    "    if y < 0:\n",
    "        print('Значение y отрицательно')\n",
    "    elif y > 0:\n",
    "        print('Значение y положительно')\n",
    "    else:\n",
    "        print('y = 0')"
   ]
  },
  {
   "cell_type": "code",
   "execution_count": null,
   "metadata": {},
   "outputs": [],
   "source": [
    "print('''Меню:\n",
    "      1. Файл\n",
    "      2. Вид\n",
    "      3. Выход\n",
    "''')\n",
    "\n",
    "choice = int(input('Ваш выбор: '))\n",
    "\n",
    "if choice == 1:\n",
    "    print('Вы выбрали пункт меню \"Файл\"')\n",
    "elif choice == 2:\n",
    "    print('Вы открыли меню \"Вид\"')\n",
    "elif choice == 3:\n",
    "    print('Завершение.')\n",
    "else:\n",
    "    print('Некорректный выбор')"
   ]
  },
  {
   "cell_type": "code",
   "execution_count": null,
   "metadata": {},
   "outputs": [],
   "source": [
    "is_ready = True\n",
    "\n",
    "# Присваиваем значение переменной в зависимости от условия\n",
    "if is_ready:\n",
    "    state_msg = 'Ready'\n",
    "else:\n",
    "    state_msg = 'Not ready yet'\n",
    "\n",
    "print(state_msg)"
   ]
  },
  {
   "cell_type": "code",
   "execution_count": null,
   "metadata": {},
   "outputs": [],
   "source": [
    "is_ready = True\n",
    "\n",
    "# То же самое, что и в предыдущем примере, но используем\n",
    "# условное выражение вместо условного оператора\n",
    "state_msg = 'Ready' if is_ready else 'Not ready yet'\n",
    "print(state_msg)"
   ]
  },
  {
   "cell_type": "code",
   "execution_count": null,
   "metadata": {},
   "outputs": [],
   "source": [
    "string = input('Enter a string: ')\n",
    "# то же самое, что if string is not None and string != ''\n",
    "if string:\n",
    "    print('The string is {}'.format(string))\n",
    "\n",
    "number = int(input('Enter a number: '))\n",
    "if number:\n",
    "    print('Число не равно нулю')\n",
    "else:\n",
    "    print('Число равно нулю')"
   ]
  },
  {
   "cell_type": "code",
   "execution_count": null,
   "metadata": {},
   "outputs": [],
   "source": [
    "n = 1  # вначале n равно единице\n",
    "while n <= 10:  # пока оно меньше или равно десяти\n",
    "    print('n =', n)  # выводим текущее значение n\n",
    "    n += 1  # и увеличиваем его на 1"
   ]
  },
  {
   "cell_type": "code",
   "execution_count": null,
   "metadata": {},
   "outputs": [],
   "source": [
    "x = 0\n",
    "while x <= 0:  # повторять, пока x не будет положительным\n",
    "    x = int(input('Введите положительное число: '))\n",
    "print('Вы ввели число', x)"
   ]
  },
  {
   "cell_type": "code",
   "execution_count": null,
   "metadata": {},
   "outputs": [],
   "source": [
    "print('Все натуральные числа:')\n",
    "n = 1\n",
    "#while True:  # бесконечный цикл\n",
    "while 10: \n",
    "    print(n)\n",
    "    n += 1"
   ]
  },
  {
   "cell_type": "code",
   "execution_count": null,
   "metadata": {},
   "outputs": [],
   "source": [
    "name = None  # вначале мы не знаем имени пользователя\n",
    "\n",
    "# бесконечный цикл\n",
    "while True:\n",
    "    print('Меню:')\n",
    "    print('1. Ввести имя')\n",
    "    print('2. Вывести приветствие')\n",
    "    print('3. Выйти')\n",
    "    response = input('Выберите пункт: ')\n",
    "\n",
    "    print()\n",
    "\n",
    "    if response == '1':\n",
    "        name = input('Введите ваше имя: ')\n",
    "    elif response == '2':\n",
    "        if name:  # здороваемся с пользователем, если имя уже введено\n",
    "            print('Привет, ', name, '!', sep='')\n",
    "        else:\n",
    "            print('Я не знаю вашего имени.')\n",
    "    elif response == '3':\n",
    "        # оператор break завершает выполнение цикла\n",
    "        break  # если пользователь выбрал третий пункт, то выходим из цикла\n",
    "    else:\n",
    "        print('Неверный ввод.')\n",
    "\n",
    "    print()"
   ]
  },
  {
   "cell_type": "code",
   "execution_count": null,
   "metadata": {},
   "outputs": [],
   "source": [
    "# более простой пример\n",
    "while True:\n",
    "    print('Введите exit, чтобы завершить цикл')\n",
    "    response = input('> ')\n",
    "    if response == 'exit':\n",
    "        break"
   ]
  },
  {
   "cell_type": "code",
   "execution_count": null,
   "metadata": {},
   "outputs": [],
   "source": [
    "x = 0\n",
    "while x < 10:\n",
    "    x += 1\n",
    "    if x == 5:  # пропускаем число 5\n",
    "        continue\n",
    "    print('Текущее число равно', x)"
   ]
  },
  {
   "cell_type": "code",
   "execution_count": null,
   "metadata": {},
   "outputs": [],
   "source": [
    "x = 5\n",
    "while x:  # пока x не равен нулю\n",
    "    print(x)\n",
    "    x -= 1\n",
    "else:\n",
    "    print('Цикл выполнен')\n",
    "    print('Конечное значение x:', x)"
   ]
  },
  {
   "cell_type": "code",
   "execution_count": null,
   "metadata": {},
   "outputs": [],
   "source": [
    "x = 3\n",
    "while x:  # цикл будет повторен три раза, если пользователь не завершит его ранее\n",
    "    x -= 1\n",
    "    response = input('Введите stop, чтобы остановить цикл (иначе что угодно): ')\n",
    "    if response == 'stop':\n",
    "        break\n",
    "else:\n",
    "    # эта ветка будет выполенена только если цикл не был прерван\n",
    "    print('Цикл завершился сам')\n",
    "print('Конец программы')"
   ]
  },
  {
   "cell_type": "code",
   "execution_count": null,
   "metadata": {},
   "outputs": [],
   "source": [
    "# i принимает значения в диапазоне [0, 10)\n",
    "for i in range(10):\n",
    "    print('i =', i)"
   ]
  },
  {
   "cell_type": "code",
   "execution_count": null,
   "metadata": {},
   "outputs": [],
   "source": [
    "# i принимает значения в диапазоне [5, 10)\n",
    "for i in range(5, 10):\n",
    "    print('i =', i)"
   ]
  },
  {
   "cell_type": "code",
   "execution_count": null,
   "metadata": {},
   "outputs": [],
   "source": [
    "# i принимает значения в диапазоне [5, 10) с шагом 2\n",
    "for i in range(5, 10, 2):\n",
    "    print('i =', i)"
   ]
  },
  {
   "cell_type": "code",
   "execution_count": null,
   "metadata": {},
   "outputs": [],
   "source": [
    "for i in range(3):  # цикл будет повторен три раза, если пользователь не завершит его ранее\n",
    "    response = input('Введите stop, чтобы остановить цикл (иначе что угодно): ')\n",
    "    if response == 'stop':\n",
    "        break\n",
    "else:\n",
    "    # эта ветка будет выполенена только если цикл не был прерван\n",
    "    print('Цикл завершился сам')\n",
    "print('Конец программы')"
   ]
  },
  {
   "cell_type": "code",
   "execution_count": null,
   "metadata": {},
   "outputs": [],
   "source": [
    "for x in range(1, 11):\n",
    "    if x == 5:  # пропускаем число 5\n",
    "        continue\n",
    "    print('Текущее число равно', x)\n"
   ]
  },
  {
   "cell_type": "code",
   "execution_count": null,
   "metadata": {},
   "outputs": [],
   "source": [
    "for i in range(10):\n",
    "    for j in range(30):\n",
    "        print('*', end='')\n",
    "    print()"
   ]
  },
  {
   "cell_type": "code",
   "execution_count": null,
   "metadata": {},
   "outputs": [],
   "source": [
    "# Объявление функции hello_world\n",
    "def hello_world():\n",
    "    print('Hello, World!')\n",
    "\n",
    "# Вызов функции hello_world\n",
    "hello_world()"
   ]
  },
  {
   "cell_type": "code",
   "execution_count": null,
   "metadata": {},
   "outputs": [],
   "source": [
    "# limit - формальный параметр функции print_numbers\n",
    "def print_numbers(limit):\n",
    "    for i in range(limit):\n",
    "        print(i)\n",
    "\n",
    "# Здесь вызывается функция print_numbers, а её формальный\n",
    "# параметр limit замещается фактическим параметром 10\n",
    "print_numbers(10)"
   ]
  },
  {
   "cell_type": "code",
   "execution_count": null,
   "metadata": {},
   "outputs": [],
   "source": [
    "# Функция из прошлого примера\n",
    "def print_numbers(limit):\n",
    "    for i in range(limit):\n",
    "        print(i)\n",
    "\n",
    "# Читаем ввод пользователя при помощи стандартной\n",
    "# функции input, конструируем из него число при\n",
    "# помощи стандартной функции int и записываем в\n",
    "# переменную n\n",
    "n = int(input('Введите n: '))\n",
    "# Вызываем функцию print_numbers с фактическим параметром n\n",
    "print_numbers(n)"
   ]
  },
  {
   "cell_type": "code",
   "execution_count": null,
   "metadata": {},
   "outputs": [],
   "source": [
    "# Функция из прошлого примера\n",
    "def print_numbers(limit):\n",
    "    for i in range(limit):\n",
    "        print(i)\n",
    "\n",
    "\n",
    "# Любое логически завершённое действие следует помещать в функцию\n",
    "def main():\n",
    "    n = int(input('Введите n: '))\n",
    "    print_numbers(n)\n",
    "\n",
    "\n",
    "# Вызов главной функции\n",
    "main()"
   ]
  },
  {
   "cell_type": "code",
   "execution_count": null,
   "metadata": {},
   "outputs": [],
   "source": [
    "def main():\n",
    "    print('Hello, World!')\n",
    "\n",
    "\n",
    "# Главную функцию желательно вызывать так\n",
    "# (таким образом функция будет вызвана только если\n",
    "# данный файл был запущен как главный; это важно\n",
    "# для приложений, состоящих из нескольких модулей)\n",
    "if __name__ == '__main__':\n",
    "    main()"
   ]
  },
  {
   "cell_type": "code",
   "execution_count": null,
   "metadata": {},
   "outputs": [],
   "source": [
    "def add_numbers(a, b):\n",
    "    return a + b  # возврат суммы параметров\n",
    "\n",
    "x = add_numbers(2, 3)\n",
    "print(x)"
   ]
  },
  {
   "cell_type": "code",
   "execution_count": null,
   "metadata": {},
   "outputs": [],
   "source": [
    "def procedure():\n",
    "    print('I return nothing... Or I do?')\n",
    "\n",
    "value = procedure()\n",
    "print('Результат функции:', value)"
   ]
  },
  {
   "cell_type": "code",
   "execution_count": null,
   "metadata": {},
   "outputs": [],
   "source": [
    "# Эта функция возвращает аргумент, умноженный на два,\n",
    "# если он отрицательный, или аргумент, умноженный на три,\n",
    "# если он больше или равен нулю\n",
    "def function(x):\n",
    "    if x < 0:\n",
    "        return x * 2\n",
    "    else:\n",
    "        return x * 3\n",
    "\n",
    "\n",
    "def main():\n",
    "    # Вывод значений функции в диапазоне [-3, 3]\n",
    "    for i in range(-3, 4):\n",
    "        y = function(i)\n",
    "        print('function(', i, ') = ', y, sep='')\n",
    "\n",
    "\n",
    "if __name__ == '__main__':\n",
    "    main()"
   ]
  },
  {
   "cell_type": "code",
   "execution_count": null,
   "metadata": {},
   "outputs": [],
   "source": [
    "def hello(name):\n",
    "    # Если имя пустое, выходим из функции\n",
    "    if not name:\n",
    "        return\n",
    "    print('Hello, ', name, '!', sep='')\n",
    "\n",
    "\n",
    "hello('Alex')\n",
    "hello('')\n",
    "hello('Python')"
   ]
  },
  {
   "cell_type": "code",
   "execution_count": null,
   "metadata": {},
   "outputs": [],
   "source": [
    "def add(a, b):\n",
    "    return a + b\n",
    "\n",
    "\n",
    "def sub(a, b):\n",
    "    return a - b\n",
    "\n",
    "\n",
    "# Вызов функции может быть частью выражения\n",
    "print(add(2, 3) + sub(2, 3))  # => print((2 + 3) + (2 - 3))"
   ]
  },
  {
   "cell_type": "code",
   "execution_count": null,
   "metadata": {},
   "outputs": [],
   "source": [
    "# Функция, которая принимает три аргумента\n",
    "def info(object, color, price):\n",
    "    print('Объект:', object)\n",
    "    print('Цвет:', color)\n",
    "    print('Цена:', price)\n",
    "    print()\n",
    "\n",
    "\n",
    "# передача параметров в прямом порядке\n",
    "info('ручка', 'синий', 1)\n",
    "# передача параметров в произвольном порядке\n",
    "info(price=5, object='чашка', color='оранжевый')\n",
    "# можно смешивать оба способа, но сначала должны идти параметры,\n",
    "# которые передаются в прямом порядке\n",
    "info('кофе', price=10, color='чёрный')"
   ]
  },
  {
   "cell_type": "code",
   "execution_count": null,
   "metadata": {},
   "outputs": [],
   "source": [
    "# Если параметр name не задан, то name = 'Alex'\n",
    "def hello(name='Alex'):\n",
    "    print('Hello, ', name, '!', sep='')\n",
    "\n",
    "hello('Python')\n",
    "hello()"
   ]
  },
  {
   "cell_type": "code",
   "execution_count": null,
   "metadata": {},
   "outputs": [],
   "source": [
    "\"\"\"\n",
    "В этом примере рассматриваются документационные строки\n",
    "\"\"\"\n",
    "\n",
    "\n",
    "def function():\n",
    "    \"\"\"Строка, стоящая в самом начале функции (а также модуля, класса или метода),\n",
    "    играет роль особого вида комментариев – документационной строки (docstring).\n",
    "    \"\"\"\n",
    "    print('function called\\n\\n')\n",
    "\n",
    "\n",
    "# Вызов функции\n",
    "function()\n",
    "\n",
    "# Вывод документационной строки на экран.\n",
    "# После имени функции нет круглых скобок, поэтому она не вызывается,\n",
    "# а сама рассматривается как определённый объект\n",
    "print(function.__doc__)\n",
    "\n",
    "# Функция help служит для вывода справки\n",
    "help(function)  # вызов справки по определённой пользователем функции\n",
    "help(print)     # вызов справки по стандартной функции"
   ]
  },
  {
   "cell_type": "code",
   "execution_count": null,
   "metadata": {},
   "outputs": [],
   "source": [
    "# reversed позволяет обходить последовательность в обратном порядке\n",
    "for i in reversed(range(5)):\n",
    "    print(i)"
   ]
  },
  {
   "cell_type": "code",
   "execution_count": null,
   "metadata": {},
   "outputs": [],
   "source": [
    "a = 5\n",
    "b = 7\n",
    "c = 2\n",
    "\n",
    "# минимальное значение\n",
    "print(min(a, b, c))\n",
    "# максимальное значение\n",
    "print(max(a, b, c))"
   ]
  },
  {
   "cell_type": "code",
   "execution_count": null,
   "metadata": {},
   "outputs": [],
   "source": [
    "def outer_function():\n",
    "    # объявление функции локально\n",
    "    def inner_function():\n",
    "        print('Внутренняя функция')\n",
    "    print('Внешняя функция')\n",
    "    # вызов функции\n",
    "    inner_function()\n",
    "\n",
    "# вызов внешней функции\n",
    "outer_function()\n",
    "\n",
    "# inner_function()  # ошибка, здесь эта функция недоступна"
   ]
  },
  {
   "cell_type": "code",
   "execution_count": null,
   "metadata": {},
   "outputs": [],
   "source": [
    "def function():\n",
    "    print(var)  # получеие доступа к глобальной переменной\n",
    "\n",
    "var = 'глобальная переменная'\n",
    "function()"
   ]
  },
  {
   "cell_type": "code",
   "execution_count": null,
   "metadata": {},
   "outputs": [],
   "source": [
    "def function():\n",
    "    # определение локальной переменной\n",
    "    var = 'локальная переменная'\n",
    "    # вывод значения локальной переменной на экран\n",
    "    print(var)\n",
    "\n",
    "# определение глобальной переменной\n",
    "var = 'глобальная переменная'\n",
    "function()\n",
    "# вывод значения глобальной переменной на экран\n",
    "print(var)"
   ]
  },
  {
   "cell_type": "code",
   "execution_count": null,
   "metadata": {},
   "outputs": [],
   "source": [
    "def function():\n",
    "    # global указывает, что необходимо получать доступ к глобальной переменной\n",
    "    # var, а не создавать новую локальную при попытке что-либо ей присвоить\n",
    "    global var\n",
    "    # вывод значения глобальной переменной на экран\n",
    "    print(var)\n",
    "    # изменение глобальной переменной\n",
    "    var = 'новое значение'\n",
    "    # вывод значения глобальной переменной на экран\n",
    "    print(var)\n",
    "\n",
    "var = 'глобальная переменная'\n",
    "function()\n",
    "print(var)"
   ]
  },
  {
   "cell_type": "code",
   "execution_count": null,
   "metadata": {},
   "outputs": [],
   "source": [
    "def function(c, d):\n",
    "    # a, b -- глобальные переменные; c, d -- локальные\n",
    "    global a, b\n",
    "    # изменение значения глобальной переменной\n",
    "    a = 5\n",
    "    # изменение значения глобальной переменной\n",
    "    b = 7\n",
    "    # создание локальной переменной с тем же именем, что и у глобальной\n",
    "    c = 10\n",
    "    # создание локальной переменной с тем же именем, что и у глобальной\n",
    "    d = 12\n",
    "\n",
    "a, b, c, d = 1, 2, 3, 4  # множественное присваивание\n",
    "print(a, b, c, d)  # 1 2 3 4\n",
    "function(c, d)\n",
    "print(a, b, c, d)  # 5 7 3 4"
   ]
  },
  {
   "cell_type": "code",
   "execution_count": null,
   "metadata": {},
   "outputs": [],
   "source": [
    "def outer_function():\n",
    "    var = 8  # создание локальной переменной var\n",
    "\n",
    "    def inner_function():\n",
    "        # указывает, что необходимо использовать переменную из внешней функции\n",
    "        nonlocal var\n",
    "        print(var)  # 8\n",
    "        var = 10\n",
    "\n",
    "    print(var)  # 8\n",
    "    inner_function()  # вызов внутренней функции\n",
    "    print(var)  # 10\n",
    "\n",
    "\n",
    "# создание глобальной переменной var\n",
    "var = 0\n",
    "print(var)  # 0\n",
    "outer_function()\n",
    "print(var)  # 0"
   ]
  },
  {
   "cell_type": "code",
   "execution_count": null,
   "metadata": {},
   "outputs": [],
   "source": [
    "def outer_function():\n",
    "    var = 8  # создание локальной переменной var\n",
    "\n",
    "    def inner_function():\n",
    "        # указывает, что необходимо использовать глобальную переменную\n",
    "        global var\n",
    "        print(var)  # 0\n",
    "        var = 10\n",
    "\n",
    "    print(var)  # 8\n",
    "    inner_function()  # вызов внутренней функции\n",
    "    print(var)  # 8\n",
    "\n",
    "\n",
    "# создание глобальной переменной var\n",
    "var = 0\n",
    "print(var)  # 0\n",
    "outer_function()\n",
    "print(var)  # 10"
   ]
  },
  {
   "cell_type": "code",
   "execution_count": null,
   "metadata": {},
   "outputs": [],
   "source": [
    "# Факториалом числа n (обозначается n!) называется произведение\n",
    "# всех натуральных чисел от 1 до n включительно.\n",
    "\n",
    "\n",
    "# пример рекурсивной функции\n",
    "def factorial(n):\n",
    "    if n == 0:\n",
    "        return 1  # условие выхода\n",
    "    else:\n",
    "        return n * factorial(n - 1)  # рекурсивный вызов\n",
    "\n",
    "\n",
    "# вычисление факториала числа 5\n",
    "print(factorial(5))"
   ]
  },
  {
   "cell_type": "code",
   "execution_count": null,
   "metadata": {},
   "outputs": [],
   "source": [
    "# Числа Фибоначчи — последовательность, в которой первые два числа равны единице,\n",
    "# а все последующие — сумме двух предыдущих.\n",
    "\n",
    "\n",
    "def fib(n):\n",
    "    if n == 1 or n == 2:  # условие выхода\n",
    "        return 1\n",
    "    else:\n",
    "        return fib(n - 1) + fib(n - 2)  # рекурсивный вызов\n",
    "\n",
    "\n",
    "index = int(input('Введите номер числа Фибоначчи: '))\n",
    "print(fib(index))"
   ]
  },
  {
   "cell_type": "code",
   "execution_count": null,
   "metadata": {},
   "outputs": [],
   "source": [
    "\"\"\"\n",
    "Ханойская башня является одной из популярных головоломок XIX века.\n",
    "Даны три стержня, на один из которых нанизаны восемь колец, причем\n",
    "кольца отличаются размером и лежат меньшее на большем. Задача\n",
    "состоит в том, чтобы перенести пирамиду из восьми колец за наименьшее\n",
    "число ходов на другой стержень. За один раз разрешается переносить\n",
    "только одно кольцо, причём нельзя класть большее кольцо на меньшее.\n",
    "\"\"\"\n",
    "def hanoi(n, a, b, c):\n",
    "    \"\"\"Рекурсивный алгоритм решения данной головоломки.\n",
    "    Данная функция перекладывает n колец со стержня A\n",
    "    на стержень C, используя B как промежуточный\n",
    "\n",
    "    :param n:  количество колец\n",
    "    :param a:  имя первого стержня\n",
    "    :param b:  имя второго стержня\n",
    "    :param c:  имя третьего стержня\n",
    "    :return:   None\n",
    "    \"\"\"\n",
    "    if n != 0:  # если количество колец не равно нулю\n",
    "        # перенести n - 1 колец из A в B\n",
    "        hanoi(n - 1, a, c, b)\n",
    "        # перенести одно кольцо из A в C\n",
    "        print('Перенести кольцо из', a, 'в', c)\n",
    "        # перенести n - 1 колец из B в C\n",
    "        hanoi(n - 1, b, a, c)\n",
    "\n",
    "\n",
    "# решение задачи для трёх колец\n",
    "hanoi(3, 'A', 'B', 'C')"
   ]
  },
  {
   "cell_type": "code",
   "execution_count": null,
   "metadata": {},
   "outputs": [],
   "source": [
    "# Список – упорядоченная последовательность определённых значений, которые\n",
    "# могут повторяться. Количество элементов списка может быть произвольным.\n",
    "#\n",
    "# Для создания списка следует записать его элементы\n",
    "# через запятую в квадратных скобках.\n",
    "\n",
    "# int_list – список из четырёх целых чисел\n",
    "int_list = [1, 2, 3, 5]\n",
    "# char_list – список, состоящий из четырёх символов\n",
    "char_list = ['a', 'c', 'z', 'x']\n",
    "# empty_list – пустой список\n",
    "empty_list = []\n",
    "\n",
    "print('Список чисел:', int_list)\n",
    "print('Список символов:', char_list)\n",
    "print('Пустой список:', empty_list)"
   ]
  },
  {
   "cell_type": "code",
   "execution_count": null,
   "metadata": {},
   "outputs": [],
   "source": [
    "# Можно получать значение элемента по его индексу (номеру).\n",
    "# Индексация начинается с нуля.\n",
    "\n",
    "# Создание списка чисел\n",
    "my_list = [5, 7, 9, 1, 1, 2]\n",
    "\n",
    "# Вывод первого и второго значений\n",
    "print(my_list[0])\n",
    "print(my_list[1])\n",
    "\n",
    "# Ввод индекса\n",
    "index = int(input('Введите номер элемента: '))\n",
    "# Получение элемента\n",
    "element = my_list[index]\n",
    "# Вывод значения на экран\n",
    "print(element)"
   ]
  },
  {
   "cell_type": "code",
   "execution_count": null,
   "metadata": {},
   "outputs": [],
   "source": [
    "# Можно также использовать отрицательные индексы.\n",
    "# В таком случае обход элементов начинается не с первого,\n",
    "# а с последнего. Индекс последнего элемента списка – -1,\n",
    "# предпоследнего – -2 и т.д.\n",
    "\n",
    "# Создание списка чисел\n",
    "my_list = [5, 7, 9, 1, 1, 2]\n",
    "\n",
    "# Получение предпоследнего значения\n",
    "pre_last = my_list[-2]  # pre_last == 1\n",
    "print(pre_last)\n",
    "\n",
    "# Вычисление суммы первого и последнего значений\n",
    "result = my_list[0] + my_list[-1]\n",
    "print(result)"
   ]
  },
  {
   "cell_type": "code",
   "execution_count": null,
   "metadata": {},
   "outputs": [],
   "source": [
    "# Можно получить группу элементов по их индексам.\n",
    "# Эта операция называется срезом списка (list slicing).\n",
    "\n",
    "# Создание списка чисел\n",
    "my_list = [5, 7, 9, 1, 1, 2]\n",
    "\n",
    "# Получение среза списка от нулевого (первого) элемента (включая его)\n",
    "# до третьего (четвёртого) (не включая)\n",
    "sub_list = my_list[0:3]\n",
    "# Вывод полученного списка\n",
    "print(sub_list)\n",
    "\n",
    "# Вывод элементов списка от второго до предпоследнего\n",
    "print(my_list[2:-2])\n",
    "# Вывод элементов списка от четвёртого (пятого) до пятого (шестого)\n",
    "print(my_list[4:5])"
   ]
  },
  {
   "cell_type": "code",
   "execution_count": null,
   "metadata": {},
   "outputs": [],
   "source": [
    "# При получении срезов можно указывать шаг.\n",
    "\n",
    "# Создание списка чисел\n",
    "my_list = [5, 7, 9, 1, 1, 2]\n",
    "\n",
    "# Выбор каждого второго значения списка, не включая последний элемент\n",
    "sub_list = my_list[0:-1:2]\n",
    "# Вывод полученного списка\n",
    "print(sub_list)\n",
    "\n",
    "# Вывод элементов списка от второго (третьего) до предпоследнего с шагом два\n",
    "print(my_list[2:-2:2])\n",
    "# Вывод всех элементов списка, кроме первого, в обратном порядке\n",
    "print(my_list[-1:0:-1])"
   ]
  },
  {
   "cell_type": "code",
   "execution_count": null,
   "metadata": {},
   "outputs": [],
   "source": [
    "# Любой из параметров среза можно пропускать\n",
    "# (при условии соблюдения правильной расстановки двоеточий).\n",
    "# Значение по умолчанию для начала списка – 0,\n",
    "# конца списка – длина списка, шага – 1.\n",
    "\n",
    "# Создание списка чисел\n",
    "my_list = [5, 7, 9, 1, 1, 2]\n",
    "\n",
    "# Вывод элементов списка от второго (третьего) значения до конца списка\n",
    "print(my_list[2:])\n",
    "# Вывод всех элементов списка от начала до предпоследнего элемента\n",
    "print(my_list[:-2])\n",
    "# Вывод всех элементов списка в обратном порядке\n",
    "print(my_list[::-1])"
   ]
  },
  {
   "cell_type": "code",
   "execution_count": null,
   "metadata": {},
   "outputs": [],
   "source": [
    "# Для проверки вхождения элемента в список используется операция in\n",
    "\n",
    "# Создание списка\n",
    "my_list = [5, 7, 9, 1, 1, 2]\n",
    "\n",
    "# Ввод значения\n",
    "value = int(input('Введите число: '))\n",
    "\n",
    "# Проверка, находится ли данное число в списке\n",
    "if value in my_list:\n",
    "    print('Число входит в список')\n",
    "else:\n",
    "    print('Число не входит в список')"
   ]
  },
  {
   "cell_type": "code",
   "execution_count": null,
   "metadata": {},
   "outputs": [],
   "source": [
    "# Создание списка\n",
    "my_list = [1, 5, 1, 3, 7, 8, 124]\n",
    "\n",
    "# Вывод количества элеметов списка\n",
    "print(len(my_list))"
   ]
  },
  {
   "cell_type": "code",
   "execution_count": null,
   "metadata": {},
   "outputs": [],
   "source": [
    "# Создание строки\n",
    "string = \"a string\"\n",
    "\n",
    "# Вывод отдельных символов строки\n",
    "print(string[0])   # 'a'\n",
    "print(string[2])   # 's'\n",
    "print(string[-1])  # 'g'"
   ]
  },
  {
   "cell_type": "code",
   "execution_count": null,
   "metadata": {},
   "outputs": [],
   "source": [
    "# Создание строки\n",
    "string = \"a string\"\n",
    "\n",
    "# Вывод срезов строки\n",
    "print(string[2:5])  # str\n",
    "print(string[:5])   # a str\n",
    "print(string[2:])   # string\n",
    "print(string[::2])  # asrn\n",
    "\n",
    "# Получение отдельных элементов строки и их конкатенация\n",
    "print(string[2] + string[-3:])  # sing"
   ]
  },
  {
   "cell_type": "code",
   "execution_count": null,
   "metadata": {},
   "outputs": [],
   "source": [
    "# Ввод строки\n",
    "string = input('Введите строку: ')\n",
    "\n",
    "# Проверка, есть ли в данной строке символ q\n",
    "if 'q' in string:\n",
    "    print('В этой строке есть символ \"q\"')\n",
    "else:\n",
    "    print('В этой строке нет символа \"q\"')"
   ]
  },
  {
   "cell_type": "code",
   "execution_count": null,
   "metadata": {},
   "outputs": [],
   "source": [
    "# Ввод строки\n",
    "string = input('Введите строку: ')\n",
    "\n",
    "# Вывод длины строки\n",
    "print('Длина этой строки:', len(string))"
   ]
  },
  {
   "cell_type": "code",
   "execution_count": null,
   "metadata": {},
   "outputs": [],
   "source": [
    "# Создание пустого списка\n",
    "my_list = []\n",
    "\n",
    "# Метод append добавляет значение в список\n",
    "my_list.append(3)\n",
    "my_list.append(5)\n",
    "my_list.append(my_list[0] + my_list[1])\n",
    "\n",
    "# Вывод списка на экран\n",
    "print(my_list)"
   ]
  },
  {
   "cell_type": "code",
   "execution_count": null,
   "metadata": {},
   "outputs": [],
   "source": [
    "# Создание списка чисел\n",
    "my_list = [5, 1, 5, 7, 8, 1, 0, -23]\n",
    "\n",
    "# Вывод списка\n",
    "print(my_list)\n",
    "\n",
    "# Оператор del удаляет заданный элемент\n",
    "del my_list[2]\n",
    "\n",
    "# Вывод списка\n",
    "print(my_list)"
   ]
  },
  {
   "cell_type": "code",
   "execution_count": null,
   "metadata": {},
   "outputs": [],
   "source": [
    "# Создание списка чисел\n",
    "my_list = [5, 1, 5, 7, 8, 1, 0, -23]\n",
    "\n",
    "# Вывод списка\n",
    "print(my_list)\n",
    "\n",
    "# Получение длины списка\n",
    "length = len(my_list)\n",
    "\n",
    "# Ввод индекса\n",
    "index = length\n",
    "while not -length <= index < length:\n",
    "    index = int(input('Введите индекс элемента списка (от %d до %d): '\n",
    "                      % (-length, length - 1)))\n",
    "\n",
    "# Ввод нового значения\n",
    "value = int(input('Введите новое значение заданного элемента: '))\n",
    "\n",
    "# Изменение элемента списка\n",
    "my_list[index] = value\n",
    "\n",
    "# Вывод списка на экран\n",
    "print(my_list)"
   ]
  },
  {
   "cell_type": "code",
   "execution_count": null,
   "metadata": {},
   "outputs": [],
   "source": [
    "# Создание списка чисел\n",
    "my_list = [5, 1, 5, 7, 8, 1, 0, -23]\n",
    "\n",
    "# Вывод квадратов этих чисел\n",
    "for x in my_list:\n",
    "    print('{} ^ 2 = {}'.format(x, x ** 2))"
   ]
  },
  {
   "cell_type": "code",
   "execution_count": null,
   "metadata": {},
   "outputs": [],
   "source": [
    "# Как и для других расмотренных типов данных, для типа list\n",
    "# существует соответствующая функция-конструктор, которая\n",
    "# создаёт список из значения другого типа.\n",
    "\n",
    "# Создание пустого списка\n",
    "empty_list = list()\n",
    "print(empty_list)\n",
    "\n",
    "# Создание списка из последовательности range\n",
    "# (актуально для Python 3.x; в Python 2.x range\n",
    "# и так возвращает список, а последовательность\n",
    "# создаёт функция xrange)\n",
    "numbers = list(range(1000))\n",
    "print(numbers)\n",
    "\n",
    "# Создание списка символов из строки\n",
    "chars = list(\"a string\")\n",
    "print(chars)"
   ]
  },
  {
   "cell_type": "code",
   "execution_count": null,
   "metadata": {},
   "outputs": [],
   "source": [
    "# Числа Фибоначчи\n",
    "\n",
    "# Количество чисел в последовательности\n",
    "n = 10\n",
    "# Список чисел Фибоначчи (изначально - две единицы)\n",
    "fibs = [1, 1]\n",
    "\n",
    "# Повторяем n - 2 раз, так как два числа уже в списке\n",
    "for i in range(n - 2):\n",
    "    # Добавляем сумму двух последних чисел\n",
    "    fibs.append(fibs[i] + fibs[i + 1])\n",
    "\n",
    "# Вывод списка на экран\n",
    "print(fibs)"
   ]
  },
  {
   "cell_type": "code",
   "execution_count": null,
   "metadata": {},
   "outputs": [],
   "source": []
  }
 ],
 "metadata": {
  "kernelspec": {
   "display_name": "Python 3",
   "language": "python",
   "name": "python3"
  },
  "language_info": {
   "codemirror_mode": {
    "name": "ipython",
    "version": 3
   },
   "file_extension": ".py",
   "mimetype": "text/x-python",
   "name": "python",
   "nbconvert_exporter": "python",
   "pygments_lexer": "ipython3",
   "version": "3.7.4"
  }
 },
 "nbformat": 4,
 "nbformat_minor": 2
}
